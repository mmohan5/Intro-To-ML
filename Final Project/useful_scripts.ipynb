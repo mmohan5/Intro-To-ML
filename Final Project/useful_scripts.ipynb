{
 "cells": [
  {
   "cell_type": "code",
   "execution_count": 1,
   "metadata": {},
   "outputs": [
    {
     "name": "stdout",
     "output_type": "stream",
     "text": [
      "Maize: 166824\n",
      "Rice: 166792\n",
      "Barley: 166777\n",
      "Wheat: 166673\n",
      "Cotton: 166585\n",
      "Soybean: 166349\n"
     ]
    }
   ],
   "source": [
    "# Count items\n",
    "import pandas as pd\n",
    "\n",
    "# Load the dataset (assuming it's in a CSV file)\n",
    "df = pd.read_csv('crop_yield.csv')\n",
    "\n",
    "# Convert the 'Crop' column to lowercase to make it case-insensitive\n",
    "df['Crop'] = df['Crop'].str.lower()\n",
    "\n",
    "# Count the occurrences of each unique item\n",
    "item_counts = df['Crop'].value_counts()\n",
    "\n",
    "# Print the results\n",
    "for item, count in item_counts.items():\n",
    "    print(f\"{item.capitalize()}: {count}\")\n"
   ]
  }
 ],
 "metadata": {
  "kernelspec": {
   "display_name": "Python 3",
   "language": "python",
   "name": "python3"
  },
  "language_info": {
   "codemirror_mode": {
    "name": "ipython",
    "version": 3
   },
   "file_extension": ".py",
   "mimetype": "text/x-python",
   "name": "python",
   "nbconvert_exporter": "python",
   "pygments_lexer": "ipython3",
   "version": "3.12.2"
  }
 },
 "nbformat": 4,
 "nbformat_minor": 2
}
